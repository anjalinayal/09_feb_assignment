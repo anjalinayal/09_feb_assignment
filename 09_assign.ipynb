{
 "cells": [
  {
   "cell_type": "markdown",
   "id": "bf3901c7-4177-4848-9c3e-2aaf821c0e68",
   "metadata": {},
   "source": [
    "Q1 "
   ]
  },
  {
   "cell_type": "code",
   "execution_count": 2,
   "id": "1dc16a80-e600-4e08-9179-a301a6b5330a",
   "metadata": {},
   "outputs": [],
   "source": [
    "class vehicle:\n",
    "    def __init__(self,name_of_vehicle,max_speed,average_of_vehicle):\n",
    "        self.name_of_vehicle=name_of_vehicle\n",
    "        self.max_speed=max_speed\n",
    "        self.average_of_vehicle=average_of_vehicle\n",
    "        "
   ]
  },
  {
   "cell_type": "code",
   "execution_count": 10,
   "id": "2cc46765-d289-4365-8492-9a62995a9b4b",
   "metadata": {},
   "outputs": [],
   "source": [
    "v=vehicle(\"toyota\",121,12)"
   ]
  },
  {
   "cell_type": "code",
   "execution_count": 11,
   "id": "5eaefdfd-14a5-4159-a48b-ca2177600aff",
   "metadata": {},
   "outputs": [
    {
     "data": {
      "text/plain": [
       "'toyota'"
      ]
     },
     "execution_count": 11,
     "metadata": {},
     "output_type": "execute_result"
    }
   ],
   "source": [
    "v.name_of_vehicle"
   ]
  },
  {
   "cell_type": "code",
   "execution_count": 12,
   "id": "7930f2d8-7686-47ca-83cb-74c10dce455a",
   "metadata": {},
   "outputs": [
    {
     "data": {
      "text/plain": [
       "121"
      ]
     },
     "execution_count": 12,
     "metadata": {},
     "output_type": "execute_result"
    }
   ],
   "source": [
    "v.max_speed\n"
   ]
  },
  {
   "cell_type": "code",
   "execution_count": 13,
   "id": "b0caf67f-5bd5-4306-a961-df3cb18381de",
   "metadata": {},
   "outputs": [
    {
     "data": {
      "text/plain": [
       "12"
      ]
     },
     "execution_count": 13,
     "metadata": {},
     "output_type": "execute_result"
    }
   ],
   "source": [
    "v.average_of_vehicle"
   ]
  },
  {
   "cell_type": "markdown",
   "id": "15b4d14c-719e-4ffe-9309-6c5247cb5c56",
   "metadata": {},
   "source": [
    "Q2"
   ]
  },
  {
   "cell_type": "code",
   "execution_count": 14,
   "id": "382aab6c-47c5-4b00-8702-d6539f415c7c",
   "metadata": {},
   "outputs": [],
   "source": [
    "class car(vehicle):\n",
    "    def seating_capacity(self,capacity):\n",
    "        self.capacity=capacity\n",
    "        return self.name_of_vehicle,self.capacity"
   ]
  },
  {
   "cell_type": "code",
   "execution_count": 16,
   "id": "23c1c18d-6d73-49f8-a534-0c5c4082ea3a",
   "metadata": {},
   "outputs": [],
   "source": [
    "c=car(\"toyota\",121,12)"
   ]
  },
  {
   "cell_type": "code",
   "execution_count": 17,
   "id": "d3a62126-3081-40b7-9569-6ed6dd6ea300",
   "metadata": {},
   "outputs": [
    {
     "data": {
      "text/plain": [
       "('toyota', 4)"
      ]
     },
     "execution_count": 17,
     "metadata": {},
     "output_type": "execute_result"
    }
   ],
   "source": [
    "c.seating_capacity(4)"
   ]
  },
  {
   "cell_type": "markdown",
   "id": "fee7cc37-2963-4ff7-b2fd-aec50b38f841",
   "metadata": {},
   "source": [
    "Q3\n"
   ]
  },
  {
   "cell_type": "code",
   "execution_count": 18,
   "id": "14c27de7-e190-4882-a9d9-a82182f30de8",
   "metadata": {},
   "outputs": [],
   "source": [
    "class parent1:\n",
    "    def parent1_method(self):\n",
    "        return \"parent1\"\n",
    "    \n",
    "class parent2:\n",
    "    def parent2_method(self):\n",
    "        return \"parent2\"\n",
    "    \n",
    "class child(parent1,parent2):\n",
    "    def child_method(self):\n",
    "        return \"child\""
   ]
  },
  {
   "cell_type": "code",
   "execution_count": 19,
   "id": "fb8581bd-1ca0-4b2b-84c9-7cc0858efb03",
   "metadata": {},
   "outputs": [],
   "source": [
    "child_obj=child()"
   ]
  },
  {
   "cell_type": "code",
   "execution_count": 20,
   "id": "6debff1f-f09f-46e3-b5fe-14d64be9990f",
   "metadata": {},
   "outputs": [
    {
     "data": {
      "text/plain": [
       "'parent1'"
      ]
     },
     "execution_count": 20,
     "metadata": {},
     "output_type": "execute_result"
    }
   ],
   "source": [
    "child_obj.parent1_method()"
   ]
  },
  {
   "cell_type": "code",
   "execution_count": 21,
   "id": "576d67a9-7c2e-4d65-949d-bf57fb1f511b",
   "metadata": {},
   "outputs": [
    {
     "data": {
      "text/plain": [
       "'parent2'"
      ]
     },
     "execution_count": 21,
     "metadata": {},
     "output_type": "execute_result"
    }
   ],
   "source": [
    "child_obj.parent2_method()"
   ]
  },
  {
   "cell_type": "code",
   "execution_count": 22,
   "id": "558b972b-fb33-49bc-ac4e-801a0d84667c",
   "metadata": {},
   "outputs": [
    {
     "data": {
      "text/plain": [
       "'child'"
      ]
     },
     "execution_count": 22,
     "metadata": {},
     "output_type": "execute_result"
    }
   ],
   "source": [
    "child_obj.child_method()"
   ]
  },
  {
   "cell_type": "markdown",
   "id": "2035294c-5cf8-431e-bd09-5ef94b3e2171",
   "metadata": {},
   "source": [
    "Q4"
   ]
  },
  {
   "cell_type": "markdown",
   "id": "b799f378-a593-4796-8bac-dfa05f5e69f3",
   "metadata": {},
   "source": [
    "'''Getter and setter are additional methods which are created when we want to give indirect access to the view to the private attribute.\n",
    "through getter method user can get the value of a private attribute to which he dont have the excess and through setter method the user can set \n",
    "value of a private attribute '''"
   ]
  },
  {
   "cell_type": "code",
   "execution_count": 23,
   "id": "17319626-fd21-4cd3-a186-19f5a7bd0678",
   "metadata": {},
   "outputs": [],
   "source": [
    "class car:\n",
    "    def __init__(self,model,speed,average):\n",
    "        self.__model=model\n",
    "        self.__average=average\n",
    "        self.__speed=speed\n",
    "        \n",
    "    def set_speed(self,speed):\n",
    "        self.__speed=speed\n",
    "        \n",
    "    def get_speed(self):\n",
    "        return self.__speed\n",
    "    "
   ]
  },
  {
   "cell_type": "code",
   "execution_count": 29,
   "id": "a9f0c8a9-d52b-444e-8cf7-3d33f97a3300",
   "metadata": {},
   "outputs": [],
   "source": [
    "c=car(\"toyota\", 121 , 12)"
   ]
  },
  {
   "cell_type": "code",
   "execution_count": 30,
   "id": "70e6ad00-e372-4522-b021-31c8f46ff6a3",
   "metadata": {},
   "outputs": [
    {
     "data": {
      "text/plain": [
       "121"
      ]
     },
     "execution_count": 30,
     "metadata": {},
     "output_type": "execute_result"
    }
   ],
   "source": [
    "c._car__speed"
   ]
  },
  {
   "cell_type": "code",
   "execution_count": 31,
   "id": "7ad9cf03-97e5-4af9-afff-4bc06acf87e8",
   "metadata": {},
   "outputs": [],
   "source": [
    "c.set_speed(188)"
   ]
  },
  {
   "cell_type": "code",
   "execution_count": 32,
   "id": "2da079ba-85cc-4783-9a2f-ce7e82417453",
   "metadata": {},
   "outputs": [
    {
     "data": {
      "text/plain": [
       "188"
      ]
     },
     "execution_count": 32,
     "metadata": {},
     "output_type": "execute_result"
    }
   ],
   "source": [
    "c.get_speed()"
   ]
  },
  {
   "cell_type": "code",
   "execution_count": 33,
   "id": "b14329cc-a52a-4b21-94c4-745dbad66375",
   "metadata": {},
   "outputs": [
    {
     "data": {
      "text/plain": [
       "188"
      ]
     },
     "execution_count": 33,
     "metadata": {},
     "output_type": "execute_result"
    }
   ],
   "source": [
    "c._car__speed"
   ]
  },
  {
   "cell_type": "markdown",
   "id": "18cc2dfa-c9e5-4d72-a463-33c0c30b0d2f",
   "metadata": {},
   "source": [
    "Q5"
   ]
  },
  {
   "cell_type": "markdown",
   "id": "baede882-3157-45cb-bdde-eb21c94b0668",
   "metadata": {},
   "source": [
    "Method overriding in Python is when you have two methods with the same name that each perform different tasks. This is an important feature of inheritance in Python.In method overriding, the child class can change its functions that are defined by its ancestral classes."
   ]
  },
  {
   "cell_type": "code",
   "execution_count": 34,
   "id": "f80c7b9c-f234-420a-9f3d-7dec30d911c7",
   "metadata": {},
   "outputs": [],
   "source": [
    "class parent:\n",
    "    def greet(self):\n",
    "        return \"parents greetings\"\n",
    "    \n",
    "class child(parent):\n",
    "    def greet(self):\n",
    "        return \"child greetings\""
   ]
  },
  {
   "cell_type": "code",
   "execution_count": 35,
   "id": "4c5ac34b-098b-45c1-99be-019dd0c1c880",
   "metadata": {},
   "outputs": [],
   "source": [
    "c=child()\n"
   ]
  },
  {
   "cell_type": "code",
   "execution_count": 37,
   "id": "af037790-84b4-4dc7-83ca-6a2617923a8a",
   "metadata": {},
   "outputs": [
    {
     "data": {
      "text/plain": [
       "'child greetings'"
      ]
     },
     "execution_count": 37,
     "metadata": {},
     "output_type": "execute_result"
    }
   ],
   "source": [
    "c.greet()"
   ]
  },
  {
   "cell_type": "code",
   "execution_count": 38,
   "id": "f444396f-eff1-4c22-84d4-b7611a68c7c2",
   "metadata": {},
   "outputs": [],
   "source": [
    "p=parent()"
   ]
  },
  {
   "cell_type": "code",
   "execution_count": 39,
   "id": "c9768968-96c3-417e-96ff-37637c47c0e5",
   "metadata": {},
   "outputs": [
    {
     "data": {
      "text/plain": [
       "'parents greetings'"
      ]
     },
     "execution_count": 39,
     "metadata": {},
     "output_type": "execute_result"
    }
   ],
   "source": [
    "p.greet()"
   ]
  },
  {
   "cell_type": "code",
   "execution_count": null,
   "id": "259e75ab-4821-4e7c-a2f5-1d8d9046f334",
   "metadata": {},
   "outputs": [],
   "source": []
  }
 ],
 "metadata": {
  "kernelspec": {
   "display_name": "Python 3 (ipykernel)",
   "language": "python",
   "name": "python3"
  },
  "language_info": {
   "codemirror_mode": {
    "name": "ipython",
    "version": 3
   },
   "file_extension": ".py",
   "mimetype": "text/x-python",
   "name": "python",
   "nbconvert_exporter": "python",
   "pygments_lexer": "ipython3",
   "version": "3.10.8"
  }
 },
 "nbformat": 4,
 "nbformat_minor": 5
}
